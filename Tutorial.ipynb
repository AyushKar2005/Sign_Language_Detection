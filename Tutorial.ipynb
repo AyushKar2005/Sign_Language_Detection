{
 "cells": [
  {
   "cell_type": "code",
   "execution_count": 1,
   "metadata": {},
   "outputs": [],
   "source": [
    "WORKSPACE_PATH = 'Tensorflow/workspace'\n",
    "SCRIPTS_PATH = 'Tensorflow/scripts'\n",
    "APIMODEL_PATH = 'Tensorflow/models'\n",
    "ANNOTATION_PATH = WORKSPACE_PATH+'/annotations'\n",
    "IMAGE_PATH = WORKSPACE_PATH+'/images/Images'\n",
    "MODEL_PATH = WORKSPACE_PATH+'/models'\n",
    "PRETRAINED_MODEL_PATH = WORKSPACE_PATH+'/pre-trained-models'\n",
    "CONFIG_PATH = MODEL_PATH+'/my_ssd_mobnet_pipeline.config'\n",
    "CHECKPOINT_PATH = MODEL_PATH+'/my_ssd_mobnet/'"
   ]
  },
  {
   "cell_type": "markdown",
   "metadata": {},
   "source": [
    "1. CREATE A LABEL MAP"
   ]
  },
  {
   "cell_type": "code",
   "execution_count": null,
   "metadata": {},
   "outputs": [],
   "source": [
    "labels = [\n",
    "    {'name':'Hello', 'id':1},\n",
    "    {'name':'Thanks', 'id':2},\n",
    "    {'name':'Yes', 'id':3},\n",
    "    {'name':'No', 'id':4},\n",
    "    {'name':'I Love You', 'id':5},\n",
    "]\n",
    "\n",
    "with open(rf\"{ANNOTATION_PATH}\\label_map.pbtxt\",'w')as f:\n",
    "    for label in labels:\n",
    "        f.write('item{ \\n')\n",
    "        f.write('\\tname:\\'{}\\'\\n'.format(label['name']))\n",
    "        f.write('\\tid:{}\\n'.format(label['id']))\n",
    "        f.write('}\\n')"
   ]
  },
  {
   "cell_type": "markdown",
   "metadata": {},
   "source": [
    "2. Create TF Records"
   ]
  },
  {
   "cell_type": "code",
   "execution_count": 3,
   "metadata": {},
   "outputs": [
    {
     "name": "stderr",
     "output_type": "stream",
     "text": [
      "Traceback (most recent call last):\n",
      "  File \"c:\\Users\\KIIT0001\\Sign_Language_Detection\\Tensorflow\\scripts\\generate_tfrecord.py\", line 115, in <module>\n",
      "    tf_example = create_tf_example(group, args.image_dir, label_map_dict)\n",
      "  File \"c:\\Users\\KIIT0001\\Sign_Language_Detection\\Tensorflow\\scripts\\generate_tfrecord.py\", line 85, in create_tf_example\n",
      "    'image/object/class/label': dataset_util.int64_list_feature(classes),\n",
      "  File \"c:\\Users\\KIIT0001\\anaconda3\\envs\\medibot\\lib\\site-packages\\object_detection-0.1-py3.10.egg\\object_detection\\utils\\dataset_util.py\", line 30, in int64_list_feature\n",
      "    return tf.train.Feature(int64_list=tf.train.Int64List(value=value))\n",
      "TypeError: None has type NoneType, but expected one of: int\n",
      "Traceback (most recent call last):\n",
      "  File \"c:\\Users\\KIIT0001\\Sign_Language_Detection\\Tensorflow\\scripts\\generate_tfrecord.py\", line 115, in <module>\n",
      "    tf_example = create_tf_example(group, args.image_dir, label_map_dict)\n",
      "  File \"c:\\Users\\KIIT0001\\Sign_Language_Detection\\Tensorflow\\scripts\\generate_tfrecord.py\", line 85, in create_tf_example\n",
      "    'image/object/class/label': dataset_util.int64_list_feature(classes),\n",
      "  File \"c:\\Users\\KIIT0001\\anaconda3\\envs\\medibot\\lib\\site-packages\\object_detection-0.1-py3.10.egg\\object_detection\\utils\\dataset_util.py\", line 30, in int64_list_feature\n",
      "    return tf.train.Feature(int64_list=tf.train.Int64List(value=value))\n",
      "TypeError: None has type NoneType, but expected one of: int\n"
     ]
    }
   ],
   "source": [
    "!python Tensorflow/scripts/generate_tfrecord.py -x {IMAGE_PATH + '/Train'} -l {ANNOTATION_PATH + '/label_map.pbtxt'} -o {ANNOTATION_PATH + '/Train.record'}\n",
    "\n",
    "!python Tensorflow/scripts/generate_tfrecord.py -x {IMAGE_PATH + '/Test'} -l {ANNOTATION_PATH + '/label_map.pbtxt'} -o {ANNOTATION_PATH + '/Test.record'}\n"
   ]
  },
  {
   "cell_type": "markdown",
   "metadata": {},
   "source": [
    "3. Download TF Models Pretrained Models from Tensorflow Model Zoo"
   ]
  },
  {
   "cell_type": "code",
   "execution_count": 4,
   "metadata": {},
   "outputs": [
    {
     "name": "stderr",
     "output_type": "stream",
     "text": [
      "fatal: destination path 'models' already exists and is not an empty directory.\n"
     ]
    }
   ],
   "source": [
    "!cd Tensorflow && git clone https://github.com/tensorflow/models"
   ]
  },
  {
   "cell_type": "markdown",
   "metadata": {},
   "source": [
    "4. Copy Model Config to Training Folder"
   ]
  },
  {
   "cell_type": "code",
   "execution_count": 5,
   "metadata": {},
   "outputs": [],
   "source": [
    "CUSTOM_MODEL_NAME = 'my_ssd_mobnet'"
   ]
  },
  {
   "cell_type": "code",
   "execution_count": 6,
   "metadata": {},
   "outputs": [
    {
     "name": "stdout",
     "output_type": "stream",
     "text": [
      "        1 file(s) copied.\n"
     ]
    }
   ],
   "source": [
    "\n",
    "!copy \"Tensorflow\\\\pre-trained-models\\\\ssd_mobilenet_v2_fpnlite_320x320_coco17_tpu-8\\\\pipeline.config\" \"Tensorflow\\\\workspace\\\\models\\\\my_ssd_mobnet\\\\pipeline.config\"\n",
    "\n"
   ]
  },
  {
   "cell_type": "markdown",
   "metadata": {},
   "source": [
    "5. Update Config For Transfer Learning"
   ]
  },
  {
   "cell_type": "code",
   "execution_count": 7,
   "metadata": {},
   "outputs": [],
   "source": [
    "import tensorflow as tf\n",
    "from object_detection.utils import config_util\n",
    "from object_detection.protos import pipeline_pb2\n",
    "from google.protobuf import text_format"
   ]
  },
  {
   "cell_type": "code",
   "execution_count": 8,
   "metadata": {},
   "outputs": [],
   "source": [
    "CONFIG_PATH = MODEL_PATH + '/my_ssd_mobnet/pipeline.config'"
   ]
  },
  {
   "cell_type": "code",
   "execution_count": 9,
   "metadata": {},
   "outputs": [],
   "source": [
    "config = config_util.get_configs_from_pipeline_file(CONFIG_PATH)"
   ]
  },
  {
   "cell_type": "code",
   "execution_count": 10,
   "metadata": {},
   "outputs": [
    {
     "data": {
      "text/plain": [
       "{'model': ssd {\n",
       "   num_classes: 90\n",
       "   image_resizer {\n",
       "     fixed_shape_resizer {\n",
       "       height: 320\n",
       "       width: 320\n",
       "     }\n",
       "   }\n",
       "   feature_extractor {\n",
       "     type: \"ssd_mobilenet_v2_fpn_keras\"\n",
       "     depth_multiplier: 1.0\n",
       "     min_depth: 16\n",
       "     conv_hyperparams {\n",
       "       regularizer {\n",
       "         l2_regularizer {\n",
       "           weight: 3.9999998989515007e-05\n",
       "         }\n",
       "       }\n",
       "       initializer {\n",
       "         random_normal_initializer {\n",
       "           mean: 0.0\n",
       "           stddev: 0.009999999776482582\n",
       "         }\n",
       "       }\n",
       "       activation: RELU_6\n",
       "       batch_norm {\n",
       "         decay: 0.996999979019165\n",
       "         scale: true\n",
       "         epsilon: 0.0010000000474974513\n",
       "       }\n",
       "     }\n",
       "     use_depthwise: true\n",
       "     override_base_feature_extractor_hyperparams: true\n",
       "     fpn {\n",
       "       min_level: 3\n",
       "       max_level: 7\n",
       "       additional_layer_depth: 128\n",
       "     }\n",
       "   }\n",
       "   box_coder {\n",
       "     faster_rcnn_box_coder {\n",
       "       y_scale: 10.0\n",
       "       x_scale: 10.0\n",
       "       height_scale: 5.0\n",
       "       width_scale: 5.0\n",
       "     }\n",
       "   }\n",
       "   matcher {\n",
       "     argmax_matcher {\n",
       "       matched_threshold: 0.5\n",
       "       unmatched_threshold: 0.5\n",
       "       ignore_thresholds: false\n",
       "       negatives_lower_than_unmatched: true\n",
       "       force_match_for_each_row: true\n",
       "       use_matmul_gather: true\n",
       "     }\n",
       "   }\n",
       "   similarity_calculator {\n",
       "     iou_similarity {\n",
       "     }\n",
       "   }\n",
       "   box_predictor {\n",
       "     weight_shared_convolutional_box_predictor {\n",
       "       conv_hyperparams {\n",
       "         regularizer {\n",
       "           l2_regularizer {\n",
       "             weight: 3.9999998989515007e-05\n",
       "           }\n",
       "         }\n",
       "         initializer {\n",
       "           random_normal_initializer {\n",
       "             mean: 0.0\n",
       "             stddev: 0.009999999776482582\n",
       "           }\n",
       "         }\n",
       "         activation: RELU_6\n",
       "         batch_norm {\n",
       "           decay: 0.996999979019165\n",
       "           scale: true\n",
       "           epsilon: 0.0010000000474974513\n",
       "         }\n",
       "       }\n",
       "       depth: 128\n",
       "       num_layers_before_predictor: 4\n",
       "       kernel_size: 3\n",
       "       class_prediction_bias_init: -4.599999904632568\n",
       "       share_prediction_tower: true\n",
       "       use_depthwise: true\n",
       "     }\n",
       "   }\n",
       "   anchor_generator {\n",
       "     multiscale_anchor_generator {\n",
       "       min_level: 3\n",
       "       max_level: 7\n",
       "       anchor_scale: 4.0\n",
       "       aspect_ratios: 1.0\n",
       "       aspect_ratios: 2.0\n",
       "       aspect_ratios: 0.5\n",
       "       scales_per_octave: 2\n",
       "     }\n",
       "   }\n",
       "   post_processing {\n",
       "     batch_non_max_suppression {\n",
       "       score_threshold: 9.99999993922529e-09\n",
       "       iou_threshold: 0.6000000238418579\n",
       "       max_detections_per_class: 100\n",
       "       max_total_detections: 100\n",
       "       use_static_shapes: false\n",
       "     }\n",
       "     score_converter: SIGMOID\n",
       "   }\n",
       "   normalize_loss_by_num_matches: true\n",
       "   loss {\n",
       "     localization_loss {\n",
       "       weighted_smooth_l1 {\n",
       "       }\n",
       "     }\n",
       "     classification_loss {\n",
       "       weighted_sigmoid_focal {\n",
       "         gamma: 2.0\n",
       "         alpha: 0.25\n",
       "       }\n",
       "     }\n",
       "     classification_weight: 1.0\n",
       "     localization_weight: 1.0\n",
       "   }\n",
       "   encode_background_as_zeros: true\n",
       "   normalize_loc_loss_by_codesize: true\n",
       "   inplace_batchnorm_update: true\n",
       "   freeze_batchnorm: false\n",
       " },\n",
       " 'train_config': batch_size: 128\n",
       " data_augmentation_options {\n",
       "   random_horizontal_flip {\n",
       "   }\n",
       " }\n",
       " data_augmentation_options {\n",
       "   random_crop_image {\n",
       "     min_object_covered: 0.0\n",
       "     min_aspect_ratio: 0.75\n",
       "     max_aspect_ratio: 3.0\n",
       "     min_area: 0.75\n",
       "     max_area: 1.0\n",
       "     overlap_thresh: 0.0\n",
       "   }\n",
       " }\n",
       " sync_replicas: true\n",
       " optimizer {\n",
       "   momentum_optimizer {\n",
       "     learning_rate {\n",
       "       cosine_decay_learning_rate {\n",
       "         learning_rate_base: 0.07999999821186066\n",
       "         total_steps: 50000\n",
       "         warmup_learning_rate: 0.026666000485420227\n",
       "         warmup_steps: 1000\n",
       "       }\n",
       "     }\n",
       "     momentum_optimizer_value: 0.8999999761581421\n",
       "   }\n",
       "   use_moving_average: false\n",
       " }\n",
       " fine_tune_checkpoint: \"PATH_TO_BE_CONFIGURED\"\n",
       " num_steps: 50000\n",
       " startup_delay_steps: 0.0\n",
       " replicas_to_aggregate: 8\n",
       " max_number_of_boxes: 100\n",
       " unpad_groundtruth_tensors: false\n",
       " fine_tune_checkpoint_type: \"classification\"\n",
       " fine_tune_checkpoint_version: V2,\n",
       " 'train_input_config': label_map_path: \"PATH_TO_BE_CONFIGURED\"\n",
       " tf_record_input_reader {\n",
       "   input_path: \"PATH_TO_BE_CONFIGURED\"\n",
       " },\n",
       " 'eval_config': metrics_set: \"coco_detection_metrics\"\n",
       " use_moving_averages: false,\n",
       " 'eval_input_configs': [label_map_path: \"PATH_TO_BE_CONFIGURED\"\n",
       " shuffle: false\n",
       " num_epochs: 1\n",
       " tf_record_input_reader {\n",
       "   input_path: \"PATH_TO_BE_CONFIGURED\"\n",
       " }\n",
       " ],\n",
       " 'eval_input_config': label_map_path: \"PATH_TO_BE_CONFIGURED\"\n",
       " shuffle: false\n",
       " num_epochs: 1\n",
       " tf_record_input_reader {\n",
       "   input_path: \"PATH_TO_BE_CONFIGURED\"\n",
       " }}"
      ]
     },
     "execution_count": 10,
     "metadata": {},
     "output_type": "execute_result"
    }
   ],
   "source": [
    "config"
   ]
  },
  {
   "cell_type": "code",
   "execution_count": 11,
   "metadata": {},
   "outputs": [],
   "source": [
    "pipeline_config = pipeline_pb2.TrainEvalPipelineConfig()\n",
    "with tf.io.gfile.GFile(CONFIG_PATH, \"r\") as f:\n",
    "    proto_str = f.read()\n",
    "    text_format.Merge(proto_str, pipeline_config)"
   ]
  },
  {
   "cell_type": "code",
   "execution_count": 12,
   "metadata": {},
   "outputs": [],
   "source": [
    "pipeline_config.model.ssd.num_classes = 5\n",
    "pipeline_config.train_config.batch_size = 4\n",
    "pipeline_config.train_config.fine_tune_checkpoint = PRETRAINED_MODEL_PATH + '/ssd_mobilenet_v2_fpnlite_320x320/checkpoint/ckpt-0'\n",
    "pipeline_config.train_config.fine_tune_checkpoint_type = \"detection\"\n",
    "pipeline_config.train_input_reader.label_map_path = ANNOTATION_PATH + '/label_map.pbtxt'\n",
    "pipeline_config.train_input_reader.tf_record_input_reader.input_path[:] = [ANNOTATION_PATH + '/train.record']\n",
    "pipeline_config.eval_input_reader[0].label_map_path = ANNOTATION_PATH + '/label_map.pbtxt'\n",
    "pipeline_config.eval_input_reader[0].tf_record_input_reader.input_path[:] = [ANNOTATION_PATH + '/test.record']"
   ]
  },
  {
   "cell_type": "code",
   "execution_count": 13,
   "metadata": {},
   "outputs": [],
   "source": [
    "config_text = text_format.MessageToString(pipeline_config)\n",
    "with tf.io.gfile.GFile(CONFIG_PATH, \"wb\") as f:\n",
    "    f.write(config_text)"
   ]
  },
  {
   "cell_type": "markdown",
   "metadata": {},
   "source": [
    "6. Train the model"
   ]
  },
  {
   "cell_type": "code",
   "execution_count": 14,
   "metadata": {},
   "outputs": [
    {
     "name": "stdout",
     "output_type": "stream",
     "text": [
      "python Tensorflow/models/research/object_detection/model_main_tf2.py --model_fir=Tensorflow/workspace/models/my_ssd_mobnet --pipeline_config_path = Tensorflow/workspace/models/my_ssd_mobnet/pipeline.config --num_train_steps=10000\n"
     ]
    }
   ],
   "source": [
    "print(\"\"\"python {}/research/object_detection/model_main_tf2.py --model_fir={}/{} --pipeline_config_path = {}/{}/pipeline.config --num_train_steps=10000\"\"\".format(APIMODEL_PATH,MODEL_PATH,CUSTOM_MODEL_NAME,MODEL_PATH,CUSTOM_MODEL_NAME))"
   ]
  },
  {
   "cell_type": "code",
   "execution_count": 15,
   "metadata": {},
   "outputs": [
    {
     "name": "stdout",
     "output_type": "stream",
     "text": [
      "Train images: ['hello.4e68448d-322b-11f0-b739-d4d853ed0f11.jpg', 'hello.4e68448d-322b-11f0-b739-d4d853ed0f11.xml', 'hello.4f9c4d02-322b-11f0-85e0-d4d853ed0f11.jpg', 'hello.4f9c4d02-322b-11f0-85e0-d4d853ed0f11.xml', 'hello.50d28477-322b-11f0-bf64-d4d853ed0f11.jpg', 'hello.50d28477-322b-11f0-bf64-d4d853ed0f11.xml', 'hello.5204db3b-322b-11f0-9f36-d4d853ed0f11.jpg', 'hello.5204db3b-322b-11f0-9f36-d4d853ed0f11.xml', 'hello.559d1db4-322b-11f0-b60d-d4d853ed0f11.jpg', 'hello.559d1db4-322b-11f0-b60d-d4d853ed0f11.xml', 'hello.56cff6ed-322b-11f0-988d-d4d853ed0f11.jpg', 'hello.56cff6ed-322b-11f0-988d-d4d853ed0f11.xml', 'hello.5a68cc87-322b-11f0-af2e-d4d853ed0f11.jpg', 'hello.5a68cc87-322b-11f0-af2e-d4d853ed0f11.xml', 'hello.5b9b4da7-322b-11f0-98a3-d4d853ed0f11.jpg', 'hello.5b9b4da7-322b-11f0-98a3-d4d853ed0f11.xml', 'hello.5ccd9756-322b-11f0-8449-d4d853ed0f11.jpg', 'hello.5ccd9756-322b-11f0-8449-d4d853ed0f11.xml', 'hello.5e003453-322b-11f0-a97a-d4d853ed0f11.jpg', 'hello.5e003453-322b-11f0-a97a-d4d853ed0f11.xml', 'iloveyou.a2dd04e9-322b-11f0-b981-d4d853ed0f11.jpg', 'iloveyou.a2dd04e9-322b-11f0-b981-d4d853ed0f11.xml', 'iloveyou.a40fcf7b-322b-11f0-a44d-d4d853ed0f11.jpg', 'iloveyou.a544496f-322b-11f0-9347-d4d853ed0f11.jpg', 'iloveyou.a677ff38-322b-11f0-9328-d4d853ed0f11.jpg', 'iloveyou.a677ff38-322b-11f0-9328-d4d853ed0f11.xml', 'iloveyou.a7aaa3bb-322b-11f0-8247-d4d853ed0f11.jpg', 'iloveyou.a8dd4437-322b-11f0-997f-d4d853ed0f11.jpg', 'iloveyou.a8dd4437-322b-11f0-997f-d4d853ed0f11.xml', 'iloveyou.aa10c2b7-322b-11f0-8521-d4d853ed0f11.jpg', 'iloveyou.aa10c2b7-322b-11f0-8521-d4d853ed0f11.xml', 'iloveyou.ab454c6b-322b-11f0-a92d-d4d853ed0f11.jpg', 'iloveyou.ab454c6b-322b-11f0-a92d-d4d853ed0f11.xml', 'iloveyou.ac796948-322b-11f0-9252-d4d853ed0f11.jpg', 'iloveyou.ac796948-322b-11f0-9252-d4d853ed0f11.xml', 'iloveyou.aee068b7-322b-11f0-bd2b-d4d853ed0f11.jpg', 'iloveyou.aee068b7-322b-11f0-bd2b-d4d853ed0f11.xml', 'iloveyou.b013a54e-322b-11f0-98ed-d4d853ed0f11.jpg', 'iloveyou.b013a54e-322b-11f0-98ed-d4d853ed0f11.xml', 'no.8dc56aa7-322b-11f0-8feb-d4d853ed0f11.jpg', 'no.8dc56aa7-322b-11f0-8feb-d4d853ed0f11.xml', 'no.8ef9a9af-322b-11f0-8515-d4d853ed0f11.jpg', 'no.8ef9a9af-322b-11f0-8515-d4d853ed0f11.xml', 'no.902d96db-322b-11f0-b3e2-d4d853ed0f11.jpg', 'no.902d96db-322b-11f0-b3e2-d4d853ed0f11.xml', 'no.915fec6a-322b-11f0-8d03-d4d853ed0f11.jpg', 'no.915fec6a-322b-11f0-8d03-d4d853ed0f11.xml', 'no.93c6ad91-322b-11f0-bcc7-d4d853ed0f11.jpg', 'no.93c6ad91-322b-11f0-bcc7-d4d853ed0f11.xml', 'no.94f98c45-322b-11f0-b76f-d4d853ed0f11.jpg', 'no.94f98c45-322b-11f0-b76f-d4d853ed0f11.xml', 'no.962bcd05-322b-11f0-95a9-d4d853ed0f11.jpg', 'no.962bcd05-322b-11f0-95a9-d4d853ed0f11.xml', 'no.99c53931-322b-11f0-a220-d4d853ed0f11.jpg', 'no.99c53931-322b-11f0-a220-d4d853ed0f11.xml', 'no.9af7883f-322b-11f0-9084-d4d853ed0f11.jpg', 'no.9af7883f-322b-11f0-9084-d4d853ed0f11.xml', 'no.9c299db9-322b-11f0-9cdd-d4d853ed0f11.jpg', 'no.9c299db9-322b-11f0-9cdd-d4d853ed0f11.xml', 'no.9d5dc4fa-322b-11f0-8e34-d4d853ed0f11.jpg', 'no.9d5dc4fa-322b-11f0-8e34-d4d853ed0f11.xml', 'thanks.6382870d-322b-11f0-87f4-d4d853ed0f11.jpg', 'thanks.64b4d5bb-322b-11f0-bb4a-d4d853ed0f11.jpg', 'thanks.64b4d5bb-322b-11f0-bb4a-d4d853ed0f11.xml', 'thanks.65eb27ce-322b-11f0-a434-d4d853ed0f11.jpg', 'thanks.65eb27ce-322b-11f0-a434-d4d853ed0f11.xml', 'thanks.671f501b-322b-11f0-8e4b-d4d853ed0f11.jpg', 'thanks.671f501b-322b-11f0-8e4b-d4d853ed0f11.xml', 'thanks.6852e49a-322b-11f0-b6dc-d4d853ed0f11.jpg', 'thanks.6852e49a-322b-11f0-b6dc-d4d853ed0f11.xml', 'thanks.6ab857ff-322b-11f0-904d-d4d853ed0f11.jpg', 'thanks.6ab857ff-322b-11f0-904d-d4d853ed0f11.xml', 'thanks.6bea943e-322b-11f0-a54b-d4d853ed0f11.jpg', 'thanks.6bea943e-322b-11f0-a54b-d4d853ed0f11.xml', 'thanks.6d1cc195-322b-11f0-b734-d4d853ed0f11.jpg', 'thanks.6d1cc195-322b-11f0-b734-d4d853ed0f11.xml', 'thanks.6e4f4c42-322b-11f0-9199-d4d853ed0f11.jpg', 'thanks.6e4f4c42-322b-11f0-9199-d4d853ed0f11.xml', 'thanks.6f83c54a-322b-11f0-840c-d4d853ed0f11.jpg', 'thanks.6f83c54a-322b-11f0-840c-d4d853ed0f11.xml', 'thanks.70b6367e-322b-11f0-ae6d-d4d853ed0f11.jpg', 'thanks.70b6367e-322b-11f0-ae6d-d4d853ed0f11.xml', 'thanks.71eaabec-322b-11f0-b47f-d4d853ed0f11.jpg', 'thanks.71eaabec-322b-11f0-b47f-d4d853ed0f11.xml', 'thanks.731d096b-322b-11f0-bc70-d4d853ed0f11.jpg', 'thanks.731d096b-322b-11f0-bc70-d4d853ed0f11.xml', 'yes.789d5d9c-322b-11f0-b28a-d4d853ed0f11.jpg', 'yes.789d5d9c-322b-11f0-b28a-d4d853ed0f11.xml', 'yes.79cfd53a-322b-11f0-b24e-d4d853ed0f11.jpg', 'yes.79cfd53a-322b-11f0-b24e-d4d853ed0f11.xml', 'yes.7b0483ab-322b-11f0-9de3-d4d853ed0f11.jpg', 'yes.7b0483ab-322b-11f0-9de3-d4d853ed0f11.xml', 'yes.7c37b471-322b-11f0-a513-d4d853ed0f11.jpg', 'yes.7c37b471-322b-11f0-a513-d4d853ed0f11.xml', 'yes.7d6a2012-322b-11f0-a013-d4d853ed0f11.jpg', 'yes.7d6a2012-322b-11f0-a013-d4d853ed0f11.xml', 'yes.7fcf4c87-322b-11f0-ab60-d4d853ed0f11.jpg', 'yes.7fcf4c87-322b-11f0-ab60-d4d853ed0f11.xml', 'yes.81025c0c-322b-11f0-b427-d4d853ed0f11.jpg', 'yes.81025c0c-322b-11f0-b427-d4d853ed0f11.xml', 'yes.849bd984-322b-11f0-95c4-d4d853ed0f11.jpg', 'yes.849bd984-322b-11f0-95c4-d4d853ed0f11.xml', 'yes.85ce2e6c-322b-11f0-8a9c-d4d853ed0f11.jpg', 'yes.85ce2e6c-322b-11f0-8a9c-d4d853ed0f11.xml', 'yes.8700c638-322b-11f0-a8e1-d4d853ed0f11.jpg', 'yes.8700c638-322b-11f0-a8e1-d4d853ed0f11.xml', 'yes.8832f5e1-322b-11f0-992d-d4d853ed0f11.jpg', 'yes.8832f5e1-322b-11f0-992d-d4d853ed0f11.xml']\n",
      "Test images: ['hello.53370322-322b-11f0-9a0d-d4d853ed0f11.jpg', 'hello.53370322-322b-11f0-9a0d-d4d853ed0f11.xml', 'hello.5935eb83-322b-11f0-aede-d4d853ed0f11.jpg', 'hello.5935eb83-322b-11f0-aede-d4d853ed0f11.xml', 'iloveyou.b1463578-322b-11f0-84db-d4d853ed0f11.jpg', 'iloveyou.b1463578-322b-11f0-84db-d4d853ed0f11.xml', 'iloveyou.b2784f2d-322b-11f0-b419-d4d853ed0f11.jpg', 'iloveyou.b2784f2d-322b-11f0-b419-d4d853ed0f11.xml', 'no.92927e45-322b-11f0-a4c5-d4d853ed0f11.jpg', 'no.92927e45-322b-11f0-a4c5-d4d853ed0f11.xml', 'no.98927835-322b-11f0-9ed3-d4d853ed0f11.jpg', 'no.98927835-322b-11f0-9ed3-d4d853ed0f11.xml', 'thanks.6382870d-322b-11f0-87f4-d4d853ed0f11.jpg', 'thanks.6382870d-322b-11f0-87f4-d4d853ed0f11.xml', 'thanks.69854198-322b-11f0-a3cd-d4d853ed0f11.jpg', 'thanks.69854198-322b-11f0-a3cd-d4d853ed0f11.xml', 'yes.8235084d-322b-11f0-851f-d4d853ed0f11.jpg', 'yes.8235084d-322b-11f0-851f-d4d853ed0f11.xml', 'yes.83693d31-322b-11f0-9070-d4d853ed0f11.jpg', 'yes.83693d31-322b-11f0-9070-d4d853ed0f11.xml']\n"
     ]
    }
   ],
   "source": [
    "import os\n",
    "print(\"Train images:\", os.listdir(IMAGE_PATH + '/Train'))\n",
    "print(\"Test images:\", os.listdir(IMAGE_PATH + '/Test'))"
   ]
  },
  {
   "cell_type": "code",
   "execution_count": 16,
   "metadata": {},
   "outputs": [
    {
     "ename": "FileNotFoundError",
     "evalue": "[Errno 2] No such file or directory: 'Tensorflow/workspace/annotations/train_labels.csv'",
     "output_type": "error",
     "traceback": [
      "\u001b[1;31m---------------------------------------------------------------------------\u001b[0m",
      "\u001b[1;31mFileNotFoundError\u001b[0m                         Traceback (most recent call last)",
      "Cell \u001b[1;32mIn[16], line 3\u001b[0m\n\u001b[0;32m      1\u001b[0m \u001b[38;5;28;01mimport\u001b[39;00m\u001b[38;5;250m \u001b[39m\u001b[38;5;21;01mpandas\u001b[39;00m\u001b[38;5;250m \u001b[39m\u001b[38;5;28;01mas\u001b[39;00m\u001b[38;5;250m \u001b[39m\u001b[38;5;21;01mpd\u001b[39;00m\n\u001b[0;32m      2\u001b[0m csv_path \u001b[38;5;241m=\u001b[39m \u001b[38;5;124mf\u001b[39m\u001b[38;5;124m\"\u001b[39m\u001b[38;5;132;01m{\u001b[39;00mANNOTATION_PATH\u001b[38;5;132;01m}\u001b[39;00m\u001b[38;5;124m/train_labels.csv\u001b[39m\u001b[38;5;124m\"\u001b[39m\n\u001b[1;32m----> 3\u001b[0m df \u001b[38;5;241m=\u001b[39m \u001b[43mpd\u001b[49m\u001b[38;5;241;43m.\u001b[39;49m\u001b[43mread_csv\u001b[49m\u001b[43m(\u001b[49m\u001b[43mcsv_path\u001b[49m\u001b[43m)\u001b[49m\n\u001b[0;32m      4\u001b[0m \u001b[38;5;28mprint\u001b[39m(\u001b[38;5;124m\"\u001b[39m\u001b[38;5;124mMissing values:\u001b[39m\u001b[38;5;130;01m\\n\u001b[39;00m\u001b[38;5;124m\"\u001b[39m, df\u001b[38;5;241m.\u001b[39misnull()\u001b[38;5;241m.\u001b[39msum())\n\u001b[0;32m      5\u001b[0m \u001b[38;5;28mprint\u001b[39m(\u001b[38;5;124m\"\u001b[39m\u001b[38;5;124mUnique classes:\u001b[39m\u001b[38;5;124m\"\u001b[39m, df[\u001b[38;5;124m'\u001b[39m\u001b[38;5;124mclass\u001b[39m\u001b[38;5;124m'\u001b[39m]\u001b[38;5;241m.\u001b[39munique())\n",
      "File \u001b[1;32mc:\\Users\\KIIT0001\\anaconda3\\envs\\medibot\\lib\\site-packages\\pandas\\io\\parsers\\readers.py:1026\u001b[0m, in \u001b[0;36mread_csv\u001b[1;34m(filepath_or_buffer, sep, delimiter, header, names, index_col, usecols, dtype, engine, converters, true_values, false_values, skipinitialspace, skiprows, skipfooter, nrows, na_values, keep_default_na, na_filter, verbose, skip_blank_lines, parse_dates, infer_datetime_format, keep_date_col, date_parser, date_format, dayfirst, cache_dates, iterator, chunksize, compression, thousands, decimal, lineterminator, quotechar, quoting, doublequote, escapechar, comment, encoding, encoding_errors, dialect, on_bad_lines, delim_whitespace, low_memory, memory_map, float_precision, storage_options, dtype_backend)\u001b[0m\n\u001b[0;32m   1013\u001b[0m kwds_defaults \u001b[38;5;241m=\u001b[39m _refine_defaults_read(\n\u001b[0;32m   1014\u001b[0m     dialect,\n\u001b[0;32m   1015\u001b[0m     delimiter,\n\u001b[1;32m   (...)\u001b[0m\n\u001b[0;32m   1022\u001b[0m     dtype_backend\u001b[38;5;241m=\u001b[39mdtype_backend,\n\u001b[0;32m   1023\u001b[0m )\n\u001b[0;32m   1024\u001b[0m kwds\u001b[38;5;241m.\u001b[39mupdate(kwds_defaults)\n\u001b[1;32m-> 1026\u001b[0m \u001b[38;5;28;01mreturn\u001b[39;00m \u001b[43m_read\u001b[49m\u001b[43m(\u001b[49m\u001b[43mfilepath_or_buffer\u001b[49m\u001b[43m,\u001b[49m\u001b[43m \u001b[49m\u001b[43mkwds\u001b[49m\u001b[43m)\u001b[49m\n",
      "File \u001b[1;32mc:\\Users\\KIIT0001\\anaconda3\\envs\\medibot\\lib\\site-packages\\pandas\\io\\parsers\\readers.py:620\u001b[0m, in \u001b[0;36m_read\u001b[1;34m(filepath_or_buffer, kwds)\u001b[0m\n\u001b[0;32m    617\u001b[0m _validate_names(kwds\u001b[38;5;241m.\u001b[39mget(\u001b[38;5;124m\"\u001b[39m\u001b[38;5;124mnames\u001b[39m\u001b[38;5;124m\"\u001b[39m, \u001b[38;5;28;01mNone\u001b[39;00m))\n\u001b[0;32m    619\u001b[0m \u001b[38;5;66;03m# Create the parser.\u001b[39;00m\n\u001b[1;32m--> 620\u001b[0m parser \u001b[38;5;241m=\u001b[39m TextFileReader(filepath_or_buffer, \u001b[38;5;241m*\u001b[39m\u001b[38;5;241m*\u001b[39mkwds)\n\u001b[0;32m    622\u001b[0m \u001b[38;5;28;01mif\u001b[39;00m chunksize \u001b[38;5;129;01mor\u001b[39;00m iterator:\n\u001b[0;32m    623\u001b[0m     \u001b[38;5;28;01mreturn\u001b[39;00m parser\n",
      "File \u001b[1;32mc:\\Users\\KIIT0001\\anaconda3\\envs\\medibot\\lib\\site-packages\\pandas\\io\\parsers\\readers.py:1620\u001b[0m, in \u001b[0;36mTextFileReader.__init__\u001b[1;34m(self, f, engine, **kwds)\u001b[0m\n\u001b[0;32m   1617\u001b[0m     \u001b[38;5;28mself\u001b[39m\u001b[38;5;241m.\u001b[39moptions[\u001b[38;5;124m\"\u001b[39m\u001b[38;5;124mhas_index_names\u001b[39m\u001b[38;5;124m\"\u001b[39m] \u001b[38;5;241m=\u001b[39m kwds[\u001b[38;5;124m\"\u001b[39m\u001b[38;5;124mhas_index_names\u001b[39m\u001b[38;5;124m\"\u001b[39m]\n\u001b[0;32m   1619\u001b[0m \u001b[38;5;28mself\u001b[39m\u001b[38;5;241m.\u001b[39mhandles: IOHandles \u001b[38;5;241m|\u001b[39m \u001b[38;5;28;01mNone\u001b[39;00m \u001b[38;5;241m=\u001b[39m \u001b[38;5;28;01mNone\u001b[39;00m\n\u001b[1;32m-> 1620\u001b[0m \u001b[38;5;28mself\u001b[39m\u001b[38;5;241m.\u001b[39m_engine \u001b[38;5;241m=\u001b[39m \u001b[38;5;28;43mself\u001b[39;49m\u001b[38;5;241;43m.\u001b[39;49m\u001b[43m_make_engine\u001b[49m\u001b[43m(\u001b[49m\u001b[43mf\u001b[49m\u001b[43m,\u001b[49m\u001b[43m \u001b[49m\u001b[38;5;28;43mself\u001b[39;49m\u001b[38;5;241;43m.\u001b[39;49m\u001b[43mengine\u001b[49m\u001b[43m)\u001b[49m\n",
      "File \u001b[1;32mc:\\Users\\KIIT0001\\anaconda3\\envs\\medibot\\lib\\site-packages\\pandas\\io\\parsers\\readers.py:1880\u001b[0m, in \u001b[0;36mTextFileReader._make_engine\u001b[1;34m(self, f, engine)\u001b[0m\n\u001b[0;32m   1878\u001b[0m     \u001b[38;5;28;01mif\u001b[39;00m \u001b[38;5;124m\"\u001b[39m\u001b[38;5;124mb\u001b[39m\u001b[38;5;124m\"\u001b[39m \u001b[38;5;129;01mnot\u001b[39;00m \u001b[38;5;129;01min\u001b[39;00m mode:\n\u001b[0;32m   1879\u001b[0m         mode \u001b[38;5;241m+\u001b[39m\u001b[38;5;241m=\u001b[39m \u001b[38;5;124m\"\u001b[39m\u001b[38;5;124mb\u001b[39m\u001b[38;5;124m\"\u001b[39m\n\u001b[1;32m-> 1880\u001b[0m \u001b[38;5;28mself\u001b[39m\u001b[38;5;241m.\u001b[39mhandles \u001b[38;5;241m=\u001b[39m \u001b[43mget_handle\u001b[49m\u001b[43m(\u001b[49m\n\u001b[0;32m   1881\u001b[0m \u001b[43m    \u001b[49m\u001b[43mf\u001b[49m\u001b[43m,\u001b[49m\n\u001b[0;32m   1882\u001b[0m \u001b[43m    \u001b[49m\u001b[43mmode\u001b[49m\u001b[43m,\u001b[49m\n\u001b[0;32m   1883\u001b[0m \u001b[43m    \u001b[49m\u001b[43mencoding\u001b[49m\u001b[38;5;241;43m=\u001b[39;49m\u001b[38;5;28;43mself\u001b[39;49m\u001b[38;5;241;43m.\u001b[39;49m\u001b[43moptions\u001b[49m\u001b[38;5;241;43m.\u001b[39;49m\u001b[43mget\u001b[49m\u001b[43m(\u001b[49m\u001b[38;5;124;43m\"\u001b[39;49m\u001b[38;5;124;43mencoding\u001b[39;49m\u001b[38;5;124;43m\"\u001b[39;49m\u001b[43m,\u001b[49m\u001b[43m \u001b[49m\u001b[38;5;28;43;01mNone\u001b[39;49;00m\u001b[43m)\u001b[49m\u001b[43m,\u001b[49m\n\u001b[0;32m   1884\u001b[0m \u001b[43m    \u001b[49m\u001b[43mcompression\u001b[49m\u001b[38;5;241;43m=\u001b[39;49m\u001b[38;5;28;43mself\u001b[39;49m\u001b[38;5;241;43m.\u001b[39;49m\u001b[43moptions\u001b[49m\u001b[38;5;241;43m.\u001b[39;49m\u001b[43mget\u001b[49m\u001b[43m(\u001b[49m\u001b[38;5;124;43m\"\u001b[39;49m\u001b[38;5;124;43mcompression\u001b[39;49m\u001b[38;5;124;43m\"\u001b[39;49m\u001b[43m,\u001b[49m\u001b[43m \u001b[49m\u001b[38;5;28;43;01mNone\u001b[39;49;00m\u001b[43m)\u001b[49m\u001b[43m,\u001b[49m\n\u001b[0;32m   1885\u001b[0m \u001b[43m    \u001b[49m\u001b[43mmemory_map\u001b[49m\u001b[38;5;241;43m=\u001b[39;49m\u001b[38;5;28;43mself\u001b[39;49m\u001b[38;5;241;43m.\u001b[39;49m\u001b[43moptions\u001b[49m\u001b[38;5;241;43m.\u001b[39;49m\u001b[43mget\u001b[49m\u001b[43m(\u001b[49m\u001b[38;5;124;43m\"\u001b[39;49m\u001b[38;5;124;43mmemory_map\u001b[39;49m\u001b[38;5;124;43m\"\u001b[39;49m\u001b[43m,\u001b[49m\u001b[43m \u001b[49m\u001b[38;5;28;43;01mFalse\u001b[39;49;00m\u001b[43m)\u001b[49m\u001b[43m,\u001b[49m\n\u001b[0;32m   1886\u001b[0m \u001b[43m    \u001b[49m\u001b[43mis_text\u001b[49m\u001b[38;5;241;43m=\u001b[39;49m\u001b[43mis_text\u001b[49m\u001b[43m,\u001b[49m\n\u001b[0;32m   1887\u001b[0m \u001b[43m    \u001b[49m\u001b[43merrors\u001b[49m\u001b[38;5;241;43m=\u001b[39;49m\u001b[38;5;28;43mself\u001b[39;49m\u001b[38;5;241;43m.\u001b[39;49m\u001b[43moptions\u001b[49m\u001b[38;5;241;43m.\u001b[39;49m\u001b[43mget\u001b[49m\u001b[43m(\u001b[49m\u001b[38;5;124;43m\"\u001b[39;49m\u001b[38;5;124;43mencoding_errors\u001b[39;49m\u001b[38;5;124;43m\"\u001b[39;49m\u001b[43m,\u001b[49m\u001b[43m \u001b[49m\u001b[38;5;124;43m\"\u001b[39;49m\u001b[38;5;124;43mstrict\u001b[39;49m\u001b[38;5;124;43m\"\u001b[39;49m\u001b[43m)\u001b[49m\u001b[43m,\u001b[49m\n\u001b[0;32m   1888\u001b[0m \u001b[43m    \u001b[49m\u001b[43mstorage_options\u001b[49m\u001b[38;5;241;43m=\u001b[39;49m\u001b[38;5;28;43mself\u001b[39;49m\u001b[38;5;241;43m.\u001b[39;49m\u001b[43moptions\u001b[49m\u001b[38;5;241;43m.\u001b[39;49m\u001b[43mget\u001b[49m\u001b[43m(\u001b[49m\u001b[38;5;124;43m\"\u001b[39;49m\u001b[38;5;124;43mstorage_options\u001b[39;49m\u001b[38;5;124;43m\"\u001b[39;49m\u001b[43m,\u001b[49m\u001b[43m \u001b[49m\u001b[38;5;28;43;01mNone\u001b[39;49;00m\u001b[43m)\u001b[49m\u001b[43m,\u001b[49m\n\u001b[0;32m   1889\u001b[0m \u001b[43m\u001b[49m\u001b[43m)\u001b[49m\n\u001b[0;32m   1890\u001b[0m \u001b[38;5;28;01massert\u001b[39;00m \u001b[38;5;28mself\u001b[39m\u001b[38;5;241m.\u001b[39mhandles \u001b[38;5;129;01mis\u001b[39;00m \u001b[38;5;129;01mnot\u001b[39;00m \u001b[38;5;28;01mNone\u001b[39;00m\n\u001b[0;32m   1891\u001b[0m f \u001b[38;5;241m=\u001b[39m \u001b[38;5;28mself\u001b[39m\u001b[38;5;241m.\u001b[39mhandles\u001b[38;5;241m.\u001b[39mhandle\n",
      "File \u001b[1;32mc:\\Users\\KIIT0001\\anaconda3\\envs\\medibot\\lib\\site-packages\\pandas\\io\\common.py:873\u001b[0m, in \u001b[0;36mget_handle\u001b[1;34m(path_or_buf, mode, encoding, compression, memory_map, is_text, errors, storage_options)\u001b[0m\n\u001b[0;32m    868\u001b[0m \u001b[38;5;28;01melif\u001b[39;00m \u001b[38;5;28misinstance\u001b[39m(handle, \u001b[38;5;28mstr\u001b[39m):\n\u001b[0;32m    869\u001b[0m     \u001b[38;5;66;03m# Check whether the filename is to be opened in binary mode.\u001b[39;00m\n\u001b[0;32m    870\u001b[0m     \u001b[38;5;66;03m# Binary mode does not support 'encoding' and 'newline'.\u001b[39;00m\n\u001b[0;32m    871\u001b[0m     \u001b[38;5;28;01mif\u001b[39;00m ioargs\u001b[38;5;241m.\u001b[39mencoding \u001b[38;5;129;01mand\u001b[39;00m \u001b[38;5;124m\"\u001b[39m\u001b[38;5;124mb\u001b[39m\u001b[38;5;124m\"\u001b[39m \u001b[38;5;129;01mnot\u001b[39;00m \u001b[38;5;129;01min\u001b[39;00m ioargs\u001b[38;5;241m.\u001b[39mmode:\n\u001b[0;32m    872\u001b[0m         \u001b[38;5;66;03m# Encoding\u001b[39;00m\n\u001b[1;32m--> 873\u001b[0m         handle \u001b[38;5;241m=\u001b[39m \u001b[38;5;28;43mopen\u001b[39;49m\u001b[43m(\u001b[49m\n\u001b[0;32m    874\u001b[0m \u001b[43m            \u001b[49m\u001b[43mhandle\u001b[49m\u001b[43m,\u001b[49m\n\u001b[0;32m    875\u001b[0m \u001b[43m            \u001b[49m\u001b[43mioargs\u001b[49m\u001b[38;5;241;43m.\u001b[39;49m\u001b[43mmode\u001b[49m\u001b[43m,\u001b[49m\n\u001b[0;32m    876\u001b[0m \u001b[43m            \u001b[49m\u001b[43mencoding\u001b[49m\u001b[38;5;241;43m=\u001b[39;49m\u001b[43mioargs\u001b[49m\u001b[38;5;241;43m.\u001b[39;49m\u001b[43mencoding\u001b[49m\u001b[43m,\u001b[49m\n\u001b[0;32m    877\u001b[0m \u001b[43m            \u001b[49m\u001b[43merrors\u001b[49m\u001b[38;5;241;43m=\u001b[39;49m\u001b[43merrors\u001b[49m\u001b[43m,\u001b[49m\n\u001b[0;32m    878\u001b[0m \u001b[43m            \u001b[49m\u001b[43mnewline\u001b[49m\u001b[38;5;241;43m=\u001b[39;49m\u001b[38;5;124;43m\"\u001b[39;49m\u001b[38;5;124;43m\"\u001b[39;49m\u001b[43m,\u001b[49m\n\u001b[0;32m    879\u001b[0m \u001b[43m        \u001b[49m\u001b[43m)\u001b[49m\n\u001b[0;32m    880\u001b[0m     \u001b[38;5;28;01melse\u001b[39;00m:\n\u001b[0;32m    881\u001b[0m         \u001b[38;5;66;03m# Binary mode\u001b[39;00m\n\u001b[0;32m    882\u001b[0m         handle \u001b[38;5;241m=\u001b[39m \u001b[38;5;28mopen\u001b[39m(handle, ioargs\u001b[38;5;241m.\u001b[39mmode)\n",
      "\u001b[1;31mFileNotFoundError\u001b[0m: [Errno 2] No such file or directory: 'Tensorflow/workspace/annotations/train_labels.csv'"
     ]
    }
   ],
   "source": [
    "import pandas as pd\n",
    "csv_path = f\"{ANNOTATION_PATH}/train_labels.csv\"\n",
    "df = pd.read_csv(csv_path)\n",
    "print(\"Missing values:\\n\", df.isnull().sum())\n",
    "print(\"Unique classes:\", df['class'].unique())\n"
   ]
  }
 ],
 "metadata": {
  "kernelspec": {
   "display_name": "medibot",
   "language": "python",
   "name": "python3"
  },
  "language_info": {
   "codemirror_mode": {
    "name": "ipython",
    "version": 3
   },
   "file_extension": ".py",
   "mimetype": "text/x-python",
   "name": "python",
   "nbconvert_exporter": "python",
   "pygments_lexer": "ipython3",
   "version": "3.10.16"
  }
 },
 "nbformat": 4,
 "nbformat_minor": 2
}
